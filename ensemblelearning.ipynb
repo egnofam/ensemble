{
 "cells": [
  {
   "cell_type": "code",
   "execution_count": 23,
   "id": "3995c14d-363a-41c8-b544-df8a59aadfed",
   "metadata": {},
   "outputs": [],
   "source": [
    "import numpy as np\n",
    "import matplotlib.pyplot as plt"
   ]
  },
  {
   "cell_type": "code",
   "execution_count": 24,
   "id": "1195199d-6cc6-47f1-9529-d737e463f977",
   "metadata": {},
   "outputs": [],
   "source": [
    "from sklearn.datasets import make_moons"
   ]
  },
  {
   "cell_type": "code",
   "execution_count": 25,
   "id": "3fe77b3b-8388-44e7-bda1-0891289a2bb9",
   "metadata": {},
   "outputs": [],
   "source": [
    "data = make_moons()"
   ]
  },
  {
   "cell_type": "code",
   "execution_count": 26,
   "id": "7c69f10a-5650-49bc-9f94-93c0da1d369a",
   "metadata": {},
   "outputs": [
    {
     "data": {
      "text/plain": [
       "(100, 100)"
      ]
     },
     "execution_count": 26,
     "metadata": {},
     "output_type": "execute_result"
    }
   ],
   "source": [
    "len(data[0]),len(data[1])"
   ]
  },
  {
   "cell_type": "code",
   "execution_count": 33,
   "id": "5d5a50d8-b390-4b71-9192-699d190d5efa",
   "metadata": {},
   "outputs": [],
   "source": [
    "from sklearn.model_selection import train_test_split\n"
   ]
  },
  {
   "cell_type": "code",
   "execution_count": 34,
   "id": "df0dec38-7419-4044-9e89-77e1cf65a6c5",
   "metadata": {},
   "outputs": [],
   "source": [
    "X,y = data"
   ]
  },
  {
   "cell_type": "code",
   "execution_count": 35,
   "id": "73a179aa-fd07-4b9a-a5c7-483f4bb160fb",
   "metadata": {},
   "outputs": [],
   "source": [
    "X_train,X_test,y_train,y_test = train_test_split(X,y,test_size=0.2)"
   ]
  },
  {
   "cell_type": "code",
   "execution_count": 36,
   "id": "8766bb13-a750-4018-8feb-f8e1bdd3dfb2",
   "metadata": {},
   "outputs": [],
   "source": [
    "from sklearn.neighbors import KNeighborsClassifier\n",
    "from sklearn.tree import DecisionTreeClassifier\n",
    "from sklearn.linear_model import SGDClassifier\n",
    "from sklearn.ensemble import VotingClassifier"
   ]
  },
  {
   "cell_type": "code",
   "execution_count": 41,
   "id": "b776b299-676e-4999-a593-146c287413b9",
   "metadata": {},
   "outputs": [],
   "source": [
    "model_1 = KNeighborsClassifier(n_neighbors=2)\n",
    "model_2 = DecisionTreeClassifier(random_state=0)\n",
    "model_3 = SGDClassifier(random_state = 0)\n",
    "model_4 = VotingClassifier([('KNN',KNeighborsClassifier(n_neighbors=2)),('Tree',DecisionTreeClassifier(random_state=0)),('SGD',SGDClassifier(random_state=0))],voting='hard')"
   ]
  },
  {
   "cell_type": "code",
   "execution_count": 42,
   "id": "3de4bd2b-82ac-4e31-9d2c-8efe5bbe2bb4",
   "metadata": {},
   "outputs": [
    {
     "name": "stdout",
     "output_type": "stream",
     "text": [
      "KNeighborsClassifier 1.0\n",
      "DecisionTreeClassifier 0.85\n",
      "SGDClassifier 0.9\n",
      "VotingClassifier 0.95\n"
     ]
    }
   ],
   "source": [
    "for model in [model_1,model_2,model_3,model_4]:\n",
    "    model.fit(X_train,y_train)\n",
    "    print(model.__class__.__name__, model.score(X_test,y_test))"
   ]
  },
  {
   "cell_type": "code",
   "execution_count": null,
   "id": "748f3ac7-d166-402f-95e3-9357465915d5",
   "metadata": {},
   "outputs": [],
   "source": []
  },
  {
   "cell_type": "code",
   "execution_count": 43,
   "id": "c5a63d26-4268-4679-9fb0-0b7006b03b3f",
   "metadata": {},
   "outputs": [],
   "source": [
    "#bagging classifier"
   ]
  },
  {
   "cell_type": "code",
   "execution_count": 44,
   "id": "90df3cb5-aebc-4d80-85bc-daf808f050fd",
   "metadata": {},
   "outputs": [],
   "source": [
    "from sklearn.ensemble import BaggingClassifier,RandomForestClassifier"
   ]
  },
  {
   "cell_type": "code",
   "execution_count": 45,
   "id": "92c71685-5b9d-43d2-970d-cb2fbc8f41c1",
   "metadata": {},
   "outputs": [],
   "source": [
    "modelb = BaggingClassifier(base_estimator=KNeighborsClassifier(),n_estimators=100)"
   ]
  },
  {
   "cell_type": "code",
   "execution_count": 46,
   "id": "b88bca12-57d9-4b97-b29d-45c38d677078",
   "metadata": {},
   "outputs": [
    {
     "data": {
      "text/plain": [
       "BaggingClassifier(base_estimator=KNeighborsClassifier(), n_estimators=100)"
      ]
     },
     "execution_count": 46,
     "metadata": {},
     "output_type": "execute_result"
    }
   ],
   "source": [
    "modelb.fit(X_train,y_train)"
   ]
  },
  {
   "cell_type": "code",
   "execution_count": 47,
   "id": "86eb16b5-1d2c-441d-a57a-9ea1e84db6bd",
   "metadata": {},
   "outputs": [
    {
     "data": {
      "text/plain": [
       "1.0"
      ]
     },
     "execution_count": 47,
     "metadata": {},
     "output_type": "execute_result"
    }
   ],
   "source": [
    "modelb.score(X_test,y_test)"
   ]
  },
  {
   "cell_type": "code",
   "execution_count": 48,
   "id": "1234c9dd-7021-4530-9fb5-183b9d511978",
   "metadata": {},
   "outputs": [],
   "source": [
    "modelr = RandomForestClassifier(n_estimators=100)"
   ]
  },
  {
   "cell_type": "code",
   "execution_count": 49,
   "id": "67adb72e-a80a-4640-b07f-4469ae02b912",
   "metadata": {},
   "outputs": [
    {
     "data": {
      "text/plain": [
       "RandomForestClassifier()"
      ]
     },
     "execution_count": 49,
     "metadata": {},
     "output_type": "execute_result"
    }
   ],
   "source": [
    "modelr.fit(X_train,y_train)"
   ]
  },
  {
   "cell_type": "code",
   "execution_count": 50,
   "id": "78346e49-dd9d-472a-8d88-78b06469dff2",
   "metadata": {},
   "outputs": [
    {
     "data": {
      "text/plain": [
       "1.0"
      ]
     },
     "execution_count": 50,
     "metadata": {},
     "output_type": "execute_result"
    }
   ],
   "source": [
    "modelr.score(X_test,y_test)"
   ]
  },
  {
   "cell_type": "code",
   "execution_count": 51,
   "id": "b8213c66-32df-4eb0-a2d2-d90b16ed9128",
   "metadata": {},
   "outputs": [],
   "source": [
    "#boosting classifier"
   ]
  },
  {
   "cell_type": "code",
   "execution_count": 52,
   "id": "bc6b2b35-76b9-458e-a72d-1dfe0ed5f0ef",
   "metadata": {},
   "outputs": [],
   "source": [
    "from sklearn.ensemble import AdaBoostClassifier,GradientBoostingClassifier"
   ]
  },
  {
   "cell_type": "code",
   "execution_count": 55,
   "id": "a5ed10d4-2381-47b5-b4e7-51ba46055c59",
   "metadata": {},
   "outputs": [],
   "source": [
    "modelbo = AdaBoostClassifier(base_estimator=DecisionTreeClassifier(),n_estimators=100)"
   ]
  },
  {
   "cell_type": "code",
   "execution_count": 56,
   "id": "68d5b802-6d27-4da5-962b-528f8a4f9a4e",
   "metadata": {},
   "outputs": [
    {
     "data": {
      "text/plain": [
       "AdaBoostClassifier(base_estimator=DecisionTreeClassifier(), n_estimators=100)"
      ]
     },
     "execution_count": 56,
     "metadata": {},
     "output_type": "execute_result"
    }
   ],
   "source": [
    "modelbo.fit(X_train,y_train)"
   ]
  },
  {
   "cell_type": "code",
   "execution_count": 57,
   "id": "e5dbeca2-7283-4c27-8648-4cb864670ffb",
   "metadata": {},
   "outputs": [
    {
     "data": {
      "text/plain": [
       "0.85"
      ]
     },
     "execution_count": 57,
     "metadata": {},
     "output_type": "execute_result"
    }
   ],
   "source": [
    "modelbo.score(X_test,y_test)"
   ]
  },
  {
   "cell_type": "code",
   "execution_count": 58,
   "id": "7b3fa6b2-e834-478c-ae07-b40cb7608cd8",
   "metadata": {},
   "outputs": [],
   "source": [
    "##stacking classifier"
   ]
  },
  {
   "cell_type": "code",
   "execution_count": 59,
   "id": "f7575ff3-1c89-4a94-926b-d5bc292446eb",
   "metadata": {},
   "outputs": [],
   "source": [
    "from sklearn.ensemble import StackingClassifier"
   ]
  },
  {
   "cell_type": "code",
   "execution_count": 64,
   "id": "d5414fe3-55ea-4174-b69e-8c8bdcc38a49",
   "metadata": {},
   "outputs": [],
   "source": [
    "models = StackingClassifier([('SGD',SGDClassifier()),('Tree',DecisionTreeClassifier()),('KNN',(KNeighborsClassifier()))],final_estimator=KNeighborsClassifier())"
   ]
  },
  {
   "cell_type": "code",
   "execution_count": 65,
   "id": "f6b6a498-6e69-4b50-81e8-6b9d1f4d3e42",
   "metadata": {},
   "outputs": [
    {
     "data": {
      "text/plain": [
       "StackingClassifier(estimators=[('SGD', SGDClassifier()),\n",
       "                               ('Tree', DecisionTreeClassifier()),\n",
       "                               ('KNN', KNeighborsClassifier())],\n",
       "                   final_estimator=KNeighborsClassifier())"
      ]
     },
     "execution_count": 65,
     "metadata": {},
     "output_type": "execute_result"
    }
   ],
   "source": [
    "models.fit(X_train,y_train)"
   ]
  },
  {
   "cell_type": "code",
   "execution_count": 66,
   "id": "17b5d888-2692-4aa3-930f-12f381768246",
   "metadata": {},
   "outputs": [
    {
     "data": {
      "text/plain": [
       "0.9"
      ]
     },
     "execution_count": 66,
     "metadata": {},
     "output_type": "execute_result"
    }
   ],
   "source": [
    "models.score(X_test,y_test)"
   ]
  },
  {
   "cell_type": "code",
   "execution_count": null,
   "id": "85ca93fb-0450-4ff1-ae50-fcbdc36a86be",
   "metadata": {},
   "outputs": [],
   "source": []
  }
 ],
 "metadata": {
  "kernelspec": {
   "display_name": "Python 3 (ipykernel)",
   "language": "python",
   "name": "python3"
  },
  "language_info": {
   "codemirror_mode": {
    "name": "ipython",
    "version": 3
   },
   "file_extension": ".py",
   "mimetype": "text/x-python",
   "name": "python",
   "nbconvert_exporter": "python",
   "pygments_lexer": "ipython3",
   "version": "3.9.9"
  }
 },
 "nbformat": 4,
 "nbformat_minor": 5
}
